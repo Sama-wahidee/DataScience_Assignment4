{
 "cells": [
  {
   "cell_type": "markdown",
   "id": "0f72a532-6d70-473b-932d-3dc4fd48fdd1",
   "metadata": {},
   "source": [
    "Name: Sama wahidee\n",
    "ID: 1211503\n",
    "Section: 1\n",
    "Assignment #4"
   ]
  },
  {
   "cell_type": "markdown",
   "id": "d084d2af-74b1-479f-b835-7866863bf60d",
   "metadata": {},
   "source": [
    "Navigate Kaggle and select a data set that contains at least 5 features and have both categorical and numerical features.\n",
    "My dataset link:https://www.kaggle.com/datasets/mahad049/job-placement-dataset\n",
    "\n",
    "With well-styled markdown cell, describe the data set and show the dictionary of the columns (for each column provide the name, data type, and description)"
   ]
  },
  {
   "cell_type": "markdown",
   "id": "b08cb7e8-9cda-4503-a6eb-7b29e131a96c",
   "metadata": {},
   "source": [
    "# Dataset Description\n",
    "\n",
    "## Dataset: job_placement\n",
    "\n",
    "This dataset captures placement statistics of Bachelor's degree graduates from various universities in the USA. It includes information such as gender, age, degree, stream, college name, placement status, salary, GPA, and years of experience. The dataset offers insights into the employment outcomes and trends among recent Bachelor's graduates across different fields of study and universities in the United States.\n",
    "\n",
    "### Column Dictionary\n",
    "\n",
    "1. **Id**: (numerical) A unique identifier for each employee.\n",
    "2. **Name**: (nominal) Name of the employee.\n",
    "3. **Gender**: (categorical) Gender of the employee (male or female).\n",
    "4. **Age**: (numerical) Age of the employee in years.\n",
    "5. **Degree**: (ordinal) Highest level of education attained by the employee (e.g., Bachelor's, Master's, PhD).\n",
    "6. **Stream**: (nominal) Field of study or specialization of the employee (e.g., Computer Science, Business Administration).\n",
    "7. **College Name**: (nominal) Name of the college or university attended by the employee.\n",
    "8. **Placement Status**: (categorical) Indicates whether the employee is placed or not (Placed, Not Placed).\n",
    "9. **Salary**: (numerical) Salary of the employee upon placement.\n",
    "10. **GPA**: (numerical) Grade Point Average of the employee.\n",
    "11. **Years of Experience**: (numerical) Number of years of work experience of the employee.\n"
   ]
  },
  {
   "cell_type": "code",
   "execution_count": 12,
   "id": "919affcd-715b-47a1-92e2-930be0bf9d9d",
   "metadata": {},
   "outputs": [
    {
     "data": {
      "text/html": [
       "<div>\n",
       "<style scoped>\n",
       "    .dataframe tbody tr th:only-of-type {\n",
       "        vertical-align: middle;\n",
       "    }\n",
       "\n",
       "    .dataframe tbody tr th {\n",
       "        vertical-align: top;\n",
       "    }\n",
       "\n",
       "    .dataframe thead th {\n",
       "        text-align: right;\n",
       "    }\n",
       "</style>\n",
       "<table border=\"1\" class=\"dataframe\">\n",
       "  <thead>\n",
       "    <tr style=\"text-align: right;\">\n",
       "      <th></th>\n",
       "      <th>id</th>\n",
       "      <th>name</th>\n",
       "      <th>gender</th>\n",
       "      <th>age</th>\n",
       "      <th>degree</th>\n",
       "      <th>stream</th>\n",
       "      <th>college_name</th>\n",
       "      <th>placement_status</th>\n",
       "      <th>salary</th>\n",
       "      <th>gpa</th>\n",
       "      <th>years_of_experience</th>\n",
       "    </tr>\n",
       "  </thead>\n",
       "  <tbody>\n",
       "    <tr>\n",
       "      <th>0</th>\n",
       "      <td>1</td>\n",
       "      <td>John Doe</td>\n",
       "      <td>Male</td>\n",
       "      <td>25</td>\n",
       "      <td>Bachelor's</td>\n",
       "      <td>Computer Science</td>\n",
       "      <td>Harvard University</td>\n",
       "      <td>Placed</td>\n",
       "      <td>60000</td>\n",
       "      <td>3.7</td>\n",
       "      <td>2.0</td>\n",
       "    </tr>\n",
       "    <tr>\n",
       "      <th>1</th>\n",
       "      <td>2</td>\n",
       "      <td>Jane Smith</td>\n",
       "      <td>Female</td>\n",
       "      <td>24</td>\n",
       "      <td>Bachelor's</td>\n",
       "      <td>Electrical Engineering</td>\n",
       "      <td>Massachusetts Institute of Technology</td>\n",
       "      <td>Placed</td>\n",
       "      <td>65000</td>\n",
       "      <td>3.6</td>\n",
       "      <td>1.0</td>\n",
       "    </tr>\n",
       "    <tr>\n",
       "      <th>2</th>\n",
       "      <td>3</td>\n",
       "      <td>Michael Johnson</td>\n",
       "      <td>Male</td>\n",
       "      <td>26</td>\n",
       "      <td>Bachelor's</td>\n",
       "      <td>Mechanical Engineering</td>\n",
       "      <td>Stanford University</td>\n",
       "      <td>Placed</td>\n",
       "      <td>58000</td>\n",
       "      <td>3.8</td>\n",
       "      <td>3.0</td>\n",
       "    </tr>\n",
       "    <tr>\n",
       "      <th>3</th>\n",
       "      <td>4</td>\n",
       "      <td>Emily Davis</td>\n",
       "      <td>Female</td>\n",
       "      <td>23</td>\n",
       "      <td>Bachelor's</td>\n",
       "      <td>Information Technology</td>\n",
       "      <td>Yale University</td>\n",
       "      <td>Not Placed</td>\n",
       "      <td>0</td>\n",
       "      <td>3.5</td>\n",
       "      <td>2.0</td>\n",
       "    </tr>\n",
       "    <tr>\n",
       "      <th>4</th>\n",
       "      <td>5</td>\n",
       "      <td>David Brown</td>\n",
       "      <td>Male</td>\n",
       "      <td>24</td>\n",
       "      <td>Bachelor's</td>\n",
       "      <td>Computer Science</td>\n",
       "      <td>Princeton University</td>\n",
       "      <td>Placed</td>\n",
       "      <td>62000</td>\n",
       "      <td>3.9</td>\n",
       "      <td>2.0</td>\n",
       "    </tr>\n",
       "  </tbody>\n",
       "</table>\n",
       "</div>"
      ],
      "text/plain": [
       "   id             name  gender  age      degree                  stream  \\\n",
       "0   1         John Doe    Male   25  Bachelor's        Computer Science   \n",
       "1   2       Jane Smith  Female   24  Bachelor's  Electrical Engineering   \n",
       "2   3  Michael Johnson    Male   26  Bachelor's  Mechanical Engineering   \n",
       "3   4      Emily Davis  Female   23  Bachelor's  Information Technology   \n",
       "4   5      David Brown    Male   24  Bachelor's        Computer Science   \n",
       "\n",
       "                            college_name placement_status  salary  gpa  \\\n",
       "0                     Harvard University           Placed   60000  3.7   \n",
       "1  Massachusetts Institute of Technology           Placed   65000  3.6   \n",
       "2                    Stanford University           Placed   58000  3.8   \n",
       "3                        Yale University       Not Placed       0  3.5   \n",
       "4                   Princeton University           Placed   62000  3.9   \n",
       "\n",
       "   years_of_experience  \n",
       "0                  2.0  \n",
       "1                  1.0  \n",
       "2                  3.0  \n",
       "3                  2.0  \n",
       "4                  2.0  "
      ]
     },
     "execution_count": 12,
     "metadata": {},
     "output_type": "execute_result"
    }
   ],
   "source": [
    "import pandas as pd\n",
    "\n",
    "# Load the dataset from my computer\n",
    "file_path = \"C:/Users/sama6/OneDrive/Desktop/BZU/Data Science/Assignment4/job_placement_dataset.csv\"\n",
    "data = pd.read_csv(file_path)\n",
    "#show my head data to make sure its uploaded\n",
    "data.head()"
   ]
  },
  {
   "cell_type": "code",
   "execution_count": 13,
   "id": "bdc33b11-6af3-4825-b138-55457368c9fa",
   "metadata": {},
   "outputs": [
    {
     "name": "stdout",
     "output_type": "stream",
     "text": [
      "Shape of the data: (700, 11)\n"
     ]
    }
   ],
   "source": [
    "# 1.What is the shape of the data?\n",
    "shape_of_data = data.shape\n",
    "#Shape of the data: (number_of_rows, number_of_columns)\")\n",
    "print(\"Shape of the data:\", shape_of_data)\n",
    "\n"
   ]
  },
  {
   "cell_type": "code",
   "execution_count": 9,
   "id": "229864fb-bc04-4d31-ab60-a3a53eaf5e7a",
   "metadata": {},
   "outputs": [
    {
     "name": "stdout",
     "output_type": "stream",
     "text": [
      "Missing values:\n",
      "id                     0\n",
      "name                   0\n",
      "gender                 0\n",
      "age                    0\n",
      "degree                 0\n",
      "stream                 0\n",
      "college_name           0\n",
      "placement_status       0\n",
      "salary                 0\n",
      "gpa                    0\n",
      "years_of_experience    1\n",
      "dtype: int64\n"
     ]
    }
   ],
   "source": [
    "# 2.Does it contain missing values?\n",
    "missing_values = data.isnull().sum()\n",
    "\n",
    "# Display the result\n",
    "print(\"Missing values:\")\n",
    "print(missing_values)\n"
   ]
  },
  {
   "cell_type": "markdown",
   "id": "879b8e17-67aa-440b-b698-5ebc6542adba",
   "metadata": {},
   "source": [
    "Interprettion 2: I have one missing value in (years_of_experience) column.\n",
    "So yes it does contain missing values."
   ]
  },
  {
   "cell_type": "markdown",
   "id": "6b7c487d-7e59-41b9-9c31-803209c8ac3a",
   "metadata": {},
   "source": [
    "3.Which features are numerical, and which are nominal, and which are ordinal ?\n",
    "A. Numerical:\n",
    "    1. Id\n",
    "    2. Age\n",
    "    3. Salary\n",
    "    4. GPA\n",
    "    5. Years of Experience\n",
    "_________________________________________________________________\n",
    "B. Nominal:\n",
    "    1. Name\n",
    "    2. Stream\n",
    "    3. College Name\n",
    "_________________________________________________________________\n",
    "C. Ordinal:\n",
    "    1. Degree\n"
   ]
  },
  {
   "cell_type": "markdown",
   "id": "e500289f-3137-4a31-b8ee-4de9a86bcb45",
   "metadata": {},
   "source": [
    "4.Select two numerical features and:\n",
    "I will select Age and Years of Experience."
   ]
  },
  {
   "cell_type": "code",
   "execution_count": 20,
   "id": "10150881-881c-4379-bc7a-6e133ec14e7d",
   "metadata": {},
   "outputs": [
    {
     "name": "stdout",
     "output_type": "stream",
     "text": [
      "\n",
      "Descriptive statistics for selected numerical features:\n",
      "              age  years_of_experience\n",
      "count  700.000000           699.000000\n",
      "mean    24.411429             2.177396\n",
      "std      1.164268             0.779393\n",
      "min     23.000000             1.000000\n",
      "25%     23.000000             2.000000\n",
      "50%     24.000000             2.000000\n",
      "75%     26.000000             3.000000\n",
      "max     26.000000             3.000000\n"
     ]
    }
   ],
   "source": [
    "# 5.Show their descriptive statistics, add your interpretation on each feature\n",
    "#Selecting two numerical features: \"age\" and \"years_of_experience\"\n",
    "selected_numerical_features = [\"age\", \"years_of_experience\"]\n",
    "\n",
    "# Descriptive statistics for selected numerical features\n",
    "print(\"\\nDescriptive statistics for selected numerical features:\")\n",
    "print(data[selected_numerical_features].describe())\n",
    "\n"
   ]
  },
  {
   "cell_type": "code",
   "execution_count": 26,
   "id": "7bbcdac4-385b-4854-9802-87b372d2fab2",
   "metadata": {},
   "outputs": [
    {
     "name": "stdout",
     "output_type": "stream",
     "text": [
      "\n",
      "Skewness for selected numerical features:\n",
      "age                    0.196139\n",
      "years_of_experience   -0.320320\n",
      "dtype: float64\n"
     ]
    },
    {
     "data": {
      "image/png": "[encoded data removed]",
      "text/plain": [
       "<Figure size 640x480 with 1 Axes>"
      ]
     },
     "metadata": {},
     "output_type": "display_data"
    }
   ],
   "source": [
    "# 6.Does they have skweness? interpret\n",
    "\n",
    "import matplotlib.pyplot as plt  # Importing Matplotlib\n",
    "\n",
    "# Calculate skewness for selected numerical features\n",
    "skewness = data[selected_numerical_features].skew()\n",
    "\n",
    "# Display skewness values\n",
    "print(\"\\nSkewness for selected numerical features:\")\n",
    "print(skewness)\n",
    "\n",
    "# Display scatter plot for selected numerical features\n",
    "data.plot.scatter(x='age', y='years_of_experience')\n",
    "plt.title('Scatter Plot of Age vs. Years of Experience')\n",
    "plt.xlabel('Age')\n",
    "plt.ylabel('Years of Experience')\n",
    "plt.show()\n"
   ]
  },
  {
   "cell_type": "markdown",
   "id": "e5f5a1e9-af37-4c89-9928-7d1f38adce3f",
   "metadata": {},
   "source": [
    "Interprettion 6: Both features exhibit relatively small skewness values, indicating that their distributions are close to symmetric. However, \"years_of_experience\" shows a slight left skewness, suggesting a concentration of individuals with fewer years of experience. These interpretations can help understand the distributional characteristics of the numerical features in my dataset."
   ]
  },
  {
   "cell_type": "code",
   "execution_count": 28,
   "id": "0e567cb9-03a5-4454-a9eb-a3ac9e49b98a",
   "metadata": {},
   "outputs": [
    {
     "name": "stdout",
     "output_type": "stream",
     "text": [
      "\n",
      "Balance for gender feature:\n",
      "gender\n",
      "Female    0.522857\n",
      "Male      0.477143\n",
      "Name: proportion, dtype: float64\n",
      "\n",
      "Balance for placement_status feature:\n",
      "placement_status\n",
      "Placed        0.814286\n",
      "Not Placed    0.185714\n",
      "Name: proportion, dtype: float64\n"
     ]
    }
   ],
   "source": [
    "# 7.Selecting two categorical features: \"gender\" and \"placement_status\"\n",
    "selected_categorical_features = [\"gender\", \"placement_status\"]\n",
    "\n",
    "# Verify balance for each categorical feature\n",
    "for feature in selected_categorical_features:\n",
    "    print(\"\\nBalance for\", feature, \"feature:\")\n",
    "    print(data[feature].value_counts(normalize=True))\n"
   ]
  },
  {
   "cell_type": "markdown",
   "id": "b13dbcec-b8bb-4ab1-b443-e64400b85638",
   "metadata": {},
   "source": [
    "Interprettion 7: The \"gender\" feature exhibits relatively balanced proportions between its categories, the \"placement_status\" feature shows an imbalance with a significant difference in the proportions between \"Placed\" and \"Not Placed\" categories."
   ]
  },
  {
   "cell_type": "code",
   "execution_count": 33,
   "id": "3e897431-bb08-459e-b1de-440fbe2ca93e",
   "metadata": {},
   "outputs": [
    {
     "data": {
      "image/png": "[encoded data removed]",
      "text/plain": [
       "<Figure size 800x600 with 1 Axes>"
      ]
     },
     "metadata": {},
     "output_type": "display_data"
    },
    {
     "name": "stdout",
     "output_type": "stream",
     "text": [
      "Pearson Correlation Coefficient between Years of Experience and Salary: 0.3617348946654673\n"
     ]
    }
   ],
   "source": [
    "# Based on your intuition, select two features that you think they could be correlated. Verify your assumption using both visualization and the correlation coefficient approaches\n",
    "\n",
    "plt.figure(figsize=(8, 6))\n",
    "plt.scatter(data['years_of_experience'], data['salary'], alpha=1.0)\n",
    "plt.title('Scatter Plot of Years of Experience vs. Salary')\n",
    "plt.xlabel('Years of Experience')\n",
    "plt.ylabel('Salary')\n",
    "plt.grid(True)\n",
    "plt.show()\n",
    "\n",
    "# Correlation coefficient\n",
    "correlation_coefficient = data['years_of_experience'].corr(data['salary'])\n",
    "print(\"Pearson Correlation Coefficient between Years of Experience and Salary:\", correlation_coefficient)\n"
   ]
  },
  {
   "cell_type": "markdown",
   "id": "d0aafcb1-2466-4d42-acd6-6a74cdd6f2e6",
   "metadata": {},
   "source": [
    "Interprettion 8: Based on intuition, two features that could potentially be correlated are \"Years of Experience\" and \"Salary\". It's reasonable to expect that individuals with more years of experience may tend to earn higher salaries."
   ]
  },
  {
   "cell_type": "markdown",
   "id": "43a8a40c-e98f-44ed-a42d-c76366397129",
   "metadata": {},
   "source": [
    "9. Are their features that can be used as index?\n",
    "Yes, there are potential features in my dataset that can be used as an index, such as Employee ID.\n",
    "\n",
    "\n",
    "\n",
    "\n",
    "\n"
   ]
  }
 ],
 "metadata": {
  "kernelspec": {
   "display_name": "Python 3 (ipykernel)",
   "language": "python",
   "name": "python3"
  },
  "language_info": {
   "codemirror_mode": {
    "name": "ipython",
    "version": 3
   },
   "file_extension": ".py",
   "mimetype": "text/x-python",
   "name": "python",
   "nbconvert_exporter": "python",
   "pygments_lexer": "ipython3",
   "version": "3.12.2"
  }
 },
 "nbformat": 4,
 "nbformat_minor": 5
}
